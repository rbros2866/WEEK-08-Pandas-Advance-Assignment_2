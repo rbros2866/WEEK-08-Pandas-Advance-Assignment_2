{
 "cells": [
  {
   "cell_type": "markdown",
   "metadata": {},
   "source": [
    "**Q1.** List any five functions of the pandas library with execution."
   ]
  },
  {
   "cell_type": "markdown",
   "metadata": {},
   "source": [
    "**groupby():**"
   ]
  },
  {
   "cell_type": "code",
   "execution_count": 3,
   "metadata": {},
   "outputs": [
    {
     "name": "stdout",
     "output_type": "stream",
     "text": [
      "Gender\n",
      "Female    29.333333\n",
      "Male      26.000000\n",
      "Name: Age, dtype: float64\n"
     ]
    }
   ],
   "source": [
    "import pandas as pd\n",
    "\n",
    "\n",
    "data = {\n",
    "    'Name': ['Alice', 'Bob', 'Claire', 'David', 'Eva'],\n",
    "    'Age': [25, 30, 28, 22, 35],\n",
    "    'Gender': ['Female', 'Male', 'Female', 'Male', 'Female']\n",
    "}\n",
    "\n",
    "# Create a DataFrame\n",
    "df = pd.DataFrame(data)\n",
    "\n",
    "# Group DataFrame by 'Gender' and calculate average age\n",
    "gender_group = df.groupby('Gender')\n",
    "average_age_by_gender = gender_group['Age'].mean()\n",
    "\n",
    "print(average_age_by_gender)\n"
   ]
  },
  {
   "cell_type": "markdown",
   "metadata": {},
   "source": [
    "**drop():**"
   ]
  },
  {
   "cell_type": "code",
   "execution_count": 4,
   "metadata": {},
   "outputs": [
    {
     "name": "stdout",
     "output_type": "stream",
     "text": [
      "     Name\n",
      "0   Alice\n",
      "1     Bob\n",
      "2  Claire\n",
      "3   David\n",
      "4     Eva\n"
     ]
    }
   ],
   "source": [
    "df = df.drop(['Age', 'Gender'], axis=1)\n",
    "\n",
    "print(df.head())"
   ]
  },
  {
   "cell_type": "markdown",
   "metadata": {},
   "source": [
    "**merge():**"
   ]
  },
  {
   "cell_type": "code",
   "execution_count": 5,
   "metadata": {},
   "outputs": [
    {
     "name": "stdout",
     "output_type": "stream",
     "text": [
      "   ID   Name  Age\n",
      "0   1  Alice   25\n",
      "1   2    Bob   30\n"
     ]
    }
   ],
   "source": [
    "\n",
    "data1 = {\n",
    "    'ID': [1, 2, 3],\n",
    "    'Name': ['Alice', 'Bob', 'Claire']\n",
    "}\n",
    "data2 = {\n",
    "    'ID': [1, 2, 4],\n",
    "    'Age': [25, 30, 28]\n",
    "}\n",
    "\n",
    "# Create two DataFrames\n",
    "df1 = pd.DataFrame(data1)\n",
    "df2 = pd.DataFrame(data2)\n",
    "\n",
    "# Merge DataFrames based on 'ID'\n",
    "merged_df = pd.merge(df1, df2, on='ID')\n",
    "\n",
    "print(merged_df)\n"
   ]
  },
  {
   "cell_type": "markdown",
   "metadata": {},
   "source": [
    "**pivot_table():**"
   ]
  },
  {
   "cell_type": "code",
   "execution_count": 6,
   "metadata": {},
   "outputs": [
    {
     "name": "stdout",
     "output_type": "stream",
     "text": [
      "Subject  Math  Science\n",
      "Name                  \n",
      "Alice    90.0      NaN\n",
      "Bob       NaN     85.0\n",
      "Claire   78.0      NaN\n",
      "David     NaN     92.0\n",
      "Eva      88.0      NaN\n"
     ]
    }
   ],
   "source": [
    "\n",
    "data3 = {\n",
    "    'Name': ['Alice', 'Bob', 'Claire', 'David', 'Eva'],\n",
    "    'Subject': ['Math', 'Science', 'Math', 'Science', 'Math'],\n",
    "    'Score': [90, 85, 78, 92, 88]\n",
    "}\n",
    "\n",
    "# Create a DataFrame\n",
    "df = pd.DataFrame(data3)\n",
    "\n",
    "# Create a pivot table\n",
    "pivot_table = df.pivot_table(index='Name', columns='Subject', values='Score', aggfunc='mean')\n",
    "\n",
    "print(pivot_table)\n"
   ]
  },
  {
   "cell_type": "markdown",
   "metadata": {},
   "source": []
  },
  {
   "cell_type": "markdown",
   "metadata": {},
   "source": [
    "**sort_values()**"
   ]
  },
  {
   "cell_type": "code",
   "execution_count": 7,
   "metadata": {},
   "outputs": [
    {
     "name": "stdout",
     "output_type": "stream",
     "text": [
      "     Name  Subject  Score\n",
      "2  Claire     Math     78\n",
      "1     Bob  Science     85\n",
      "4     Eva     Math     88\n",
      "0   Alice     Math     90\n",
      "3   David  Science     92\n"
     ]
    }
   ],
   "source": [
    "# Sort the DataFrame by 'Score' in ascending order\n",
    "\n",
    "sorted_df = df.sort_values(by='Score')\n",
    "\n",
    "print(sorted_df)"
   ]
  },
  {
   "cell_type": "markdown",
   "metadata": {},
   "source": [
    "**Q2.** Given a Pandas DataFrame df with columns 'A', 'B', and 'C', write a Python function to re-index the\n",
    "DataFrame with a new index that starts from 1 and increments by 2 for each row."
   ]
  },
  {
   "cell_type": "markdown",
   "metadata": {},
   "source": []
  },
  {
   "cell_type": "code",
   "execution_count": 15,
   "metadata": {},
   "outputs": [
    {
     "name": "stdout",
     "output_type": "stream",
     "text": [
      "    A    B     C\n",
      "1  10  100  1000\n",
      "3  20  200  2000\n",
      "5  30  300  3000\n",
      "7  40  400  4000\n"
     ]
    }
   ],
   "source": [
    "\n",
    "def reindex_dataframe(df):\n",
    "    # Reset the existing index and drop the old index column\n",
    "    df_reindexed = df.reset_index(drop=True)\n",
    "        \n",
    "    # Reassign the new index to the DataFrame\n",
    "    df_reindexed.index = df_reindexed.index * 2 + 1\n",
    "    \n",
    "    return df_reindexed\n",
    "\n",
    "\n",
    "data = {\n",
    "    'A': [10, 20, 30, 40],\n",
    "    'B': [100, 200, 300, 400],\n",
    "    'C': [1000, 2000, 3000, 4000]\n",
    "}\n",
    "\n",
    "df = pd.DataFrame(data)\n",
    "\n",
    "# Call the reindex_dataframe function\n",
    "df_reindexed = reindex_dataframe(df)\n",
    "\n",
    "print(df_reindexed)\n"
   ]
  },
  {
   "cell_type": "markdown",
   "metadata": {},
   "source": [
    "**Q3.** You have a Pandas DataFrame df with a column named 'Values'. Write a Python function that\n",
    "iterates over the DataFrame and calculates the sum of the first three values in the 'Values' column. The\n",
    "function should print the sum to the console."
   ]
  },
  {
   "cell_type": "code",
   "execution_count": 16,
   "metadata": {},
   "outputs": [
    {
     "name": "stdout",
     "output_type": "stream",
     "text": [
      "Sum of the first three values in 'Values' column: 60\n"
     ]
    }
   ],
   "source": [
    "def calculate_sum_of_first_three(df):\n",
    "   \n",
    "    total_sum = 0\n",
    "    for value in df['Values'].head(3):\n",
    "        total_sum += value\n",
    "    print(\"Sum of the first three values in 'Values' column:\", total_sum)\n",
    "\n",
    "\n",
    "data = {\n",
    "    'Values': [10, 20, 30, 40, 50]\n",
    "}\n",
    "df = pd.DataFrame(data)\n",
    "calculate_sum_of_first_three(df)\n"
   ]
  },
  {
   "cell_type": "markdown",
   "metadata": {},
   "source": [
    "**Q4.** Given a Pandas DataFrame df with a column 'Text', write a Python function to create a new column\n",
    "'Word_Count' that contains the number of words in each row of the 'Text' column."
   ]
  },
  {
   "cell_type": "code",
   "execution_count": 30,
   "metadata": {},
   "outputs": [
    {
     "name": "stdout",
     "output_type": "stream",
     "text": [
      "                          Text  Word_Count\n",
      "0  Cricket is a popular sport            5\n",
      "1     played between two teams           4\n",
      "2       of eleven players each           4\n"
     ]
    }
   ],
   "source": [
    "def add_word_count_column(df):\n",
    "    df['Word_Count'] = df['Text'].apply(lambda x: x.split())\n",
    "\n",
    "    df['Word_Count'] = df['Word_Count'].apply(lambda x : len(x))\n",
    "\n",
    "data = {\n",
    "    'Text': ['Cricket is a popular sport ', 'played between two teams', 'of eleven players each']\n",
    "}\n",
    "df = pd.DataFrame(data)\n",
    "\n",
    "add_word_count_column(df)\n",
    "\n",
    "print(df)"
   ]
  },
  {
   "cell_type": "markdown",
   "metadata": {},
   "source": [
    "**Q5.** How are DataFrame.size() and DataFrame.shape() different?"
   ]
  },
  {
   "cell_type": "markdown",
   "metadata": {},
   "source": [
    "**DataFrame.size():**\n",
    "\n",
    "Returns the total number of elements in the DataFrame (rows x columns).\n",
    "\n",
    "Counts both the actual data elements and any missing or NaN values in the DataFrame.\n",
    "\n",
    "It is an attribute, not a method, so no parentheses are required when calling it.\n",
    "\n",
    "The return value is a single integer representing the size of the DataFrame.\n",
    "\n",
    "**DataFrame.shape():**\n",
    "\n",
    "Returns a tuple representing the dimensions of the DataFrame (rows, columns).\n",
    "\n",
    "Provides information about the structure of the DataFrame, without counting the actual data elements.\n",
    "\n",
    "The return value is a tuple of two integers representing the number of rows and columns, respectively.\n",
    "\n",
    "It is a property, not a method, so no parentheses are required when calling it."
   ]
  },
  {
   "cell_type": "markdown",
   "metadata": {},
   "source": [
    "**Q6.** Which function of pandas do we use to read an excel file?"
   ]
  },
  {
   "cell_type": "code",
   "execution_count": null,
   "metadata": {},
   "outputs": [],
   "source": [
    "import pandas as pd\n",
    "\n",
    "df = pd.read_excel('file_name.xlsx')\n"
   ]
  },
  {
   "cell_type": "markdown",
   "metadata": {},
   "source": [
    "**Q7.** You have a Pandas DataFrame df that contains a column named 'Email' that contains email\n",
    "addresses in the format 'username@domain.com'. Write a Python function that creates a new column\n",
    "'Username' in df that contains only the username part of each email address."
   ]
  },
  {
   "cell_type": "code",
   "execution_count": 32,
   "metadata": {},
   "outputs": [
    {
     "name": "stdout",
     "output_type": "stream",
     "text": [
      "                  Email  Username\n",
      "0  ramesh46@example.com  ramesh46\n",
      "1   aman_34@example.com   aman_34\n",
      "2     pavan@example.com     pavan\n"
     ]
    }
   ],
   "source": [
    "\n",
    "def extract_username(df):\n",
    "    # Use the str.split() method to split the 'Email' column by '@' and get the username part\n",
    "    df['Username'] = df['Email'].str.split('@').str[0]\n",
    "\n",
    "# Sample data for the DataFrame\n",
    "data = {\n",
    "    'Email': ['ramesh46@example.com', 'aman_34@example.com', 'pavan@example.com']\n",
    "}\n",
    "df = pd.DataFrame(data)\n",
    "\n",
    "extract_username(df)\n",
    "\n",
    "print(df)\n"
   ]
  },
  {
   "cell_type": "markdown",
   "metadata": {},
   "source": [
    "**Q8.*8 You have a Pandas DataFrame df with columns 'A', 'B', and 'C'. Write a Python function that selects\n",
    "all rows where the value in column 'A' is greater than 5 and the value in column 'B' is less than 10. The\n",
    "function should return a new DataFrame that contains only the selected rows."
   ]
  },
  {
   "cell_type": "code",
   "execution_count": 33,
   "metadata": {},
   "outputs": [
    {
     "name": "stdout",
     "output_type": "stream",
     "text": [
      "   A  B  C\n",
      "1  8  2  7\n",
      "2  6  9  4\n",
      "4  9  1  2\n"
     ]
    }
   ],
   "source": [
    "def select_rows(df):\n",
    "       selected_rows = df[(df['A'] > 5) & (df['B'] < 10)]\n",
    "       return selected_rows\n",
    "\n",
    "\n",
    "data = {\n",
    "    'A': [3, 8, 6, 2, 9],\n",
    "    'B': [5, 2, 9, 3, 1],\n",
    "    'C': [1, 7, 4, 5, 2]\n",
    "}\n",
    "\n",
    "df = pd.DataFrame(data)\n",
    "\n",
    "selected_df = select_rows(df)\n",
    "\n",
    "print(selected_df)\n"
   ]
  },
  {
   "cell_type": "markdown",
   "metadata": {},
   "source": [
    "**Q9.** Given a Pandas DataFrame df with a column 'Values', write a Python function to calculate the mean,\n",
    "median, and standard deviation of the values in the 'Values' column."
   ]
  },
  {
   "cell_type": "code",
   "execution_count": 34,
   "metadata": {},
   "outputs": [
    {
     "name": "stdout",
     "output_type": "stream",
     "text": [
      "Mean: 132.0\n",
      "Median: 45.0\n",
      "Standard Deviation: 288.73413376322515\n"
     ]
    }
   ],
   "source": [
    "def calculate_stats(df):\n",
    "    \n",
    "    mean_value = df['Values'].mean()\n",
    "    median_value = df['Values'].median()\n",
    "    std_value = df['Values'].std()\n",
    "    \n",
    "    return mean_value, median_value, std_value\n",
    "\n",
    "\n",
    "data = {\n",
    "    'Values': [10, 20, 30, 40, 50,34,45,67,78,78,1000]\n",
    "}\n",
    "\n",
    "df = pd.DataFrame(data)\n",
    "\n",
    "mean, median, std = calculate_stats(df)\n",
    "\n",
    "print(\"Mean:\", mean)\n",
    "print(\"Median:\", median)\n",
    "print(\"Standard Deviation:\", std)\n"
   ]
  },
  {
   "cell_type": "markdown",
   "metadata": {},
   "source": [
    "**Q10.** Given a Pandas DataFrame df with a column 'Sales' and a column 'Date', write a Python function to\n",
    "create a new column 'MovingAverage' that contains the moving average of the sales for the past 7 days\n",
    "for each row in the DataFrame. The moving average should be calculated using a window of size 7 and\n",
    "should include the current day."
   ]
  },
  {
   "cell_type": "code",
   "execution_count": 57,
   "metadata": {},
   "outputs": [
    {
     "name": "stdout",
     "output_type": "stream",
     "text": [
      "         Date  Sales  MovingAverage\n",
      "0  2023-07-01    100         100.00\n",
      "1  2023-07-02    150         125.00\n",
      "2  2023-07-03    120         123.33\n",
      "3  2023-07-04    200         142.50\n",
      "4  2023-07-05    180         150.00\n",
      "5  2023-07-06    210         160.00\n",
      "6  2023-07-07    250         172.86\n",
      "7  2023-07-08    220         190.00\n",
      "8  2023-07-09    270         207.14\n",
      "9  2023-07-10    230         222.86\n",
      "10 2023-07-11    345         243.57\n",
      "11 2023-07-12    123         235.43\n",
      "12 2023-07-13    456         270.57\n",
      "13 2023-07-14    245         269.86\n",
      "14 2023-07-15    157         260.86\n",
      "15 2023-07-16    357         273.29\n",
      "16 2023-07-17    787         352.86\n",
      "17 2023-07-18    456         368.71\n",
      "18 2023-07-19    122         368.57\n",
      "19 2023-07-20    333         351.00\n"
     ]
    }
   ],
   "source": [
    "def calculate_moving_average(df):\n",
    "    # Moving Average = (Sum of the last 'n' data points) / 'n'\n",
    "    \n",
    "    df['MovingAverage'] = round(df['Sales'].rolling(window=7, min_periods=1).mean(),2)\n",
    "\n",
    "    \n",
    "data = {\n",
    "    'Date': pd.date_range(start='2023-07-01', periods=20),\n",
    "    'Sales': [100, 150, 120, 200, 180, 210, 250, 220, 270, 230,345,123,456,245,157,357,787,456,122,333]\n",
    "}\n",
    "df = pd.DataFrame(data)\n",
    "\n",
    "calculate_moving_average(df)\n",
    "\n",
    "print(df)"
   ]
  },
  {
   "cell_type": "markdown",
   "metadata": {},
   "source": [
    "**Q11.** You have a Pandas DataFrame df with a column 'Date'. Write a Python function that creates a new\n",
    "column 'Weekday' in the DataFrame. The 'Weekday' column should contain the weekday name (e.g.\n",
    "Monday, Tuesday) corresponding to each date in the 'Date' column.\n",
    "\n",
    "For example, if df contains the following values:\n",
    "\n",
    "Date\n",
    "\n",
    "0 2023-01-01\n",
    "\n",
    "1 2023-01-02\n",
    "\n",
    "2 2023-01-03\n",
    "\n",
    "3 2023-01-04\n",
    "\n",
    "4 2023-01-05\n",
    "\n",
    "Your function should create the following DataFrame:\n",
    "\n",
    "Date Weekday\n",
    "\n",
    "0 2023-01-01 Sunday\n",
    "\n",
    "1 2023-01-02 Monday\n",
    "\n",
    "2 2023-01-03 Tuesday\n",
    "\n",
    "3 2023-01-04 Wednesday\n",
    "\n",
    "4 2023-01-05 Thursday\n",
    "\n",
    "The function should return the modified DataFrame."
   ]
  },
  {
   "cell_type": "code",
   "execution_count": 59,
   "metadata": {},
   "outputs": [
    {
     "name": "stdout",
     "output_type": "stream",
     "text": [
      "        Date    Weekday\n",
      "0 2023-01-01     Sunday\n",
      "1 2023-01-02     Monday\n",
      "2 2023-01-03    Tuesday\n",
      "3 2023-01-04  Wednesday\n",
      "4 2023-01-05   Thursday\n"
     ]
    }
   ],
   "source": [
    "\n",
    "def add_weekday_column(df):\n",
    "    # Convert 'Date' column to datetime format\n",
    "    df['Date'] = pd.to_datetime(df['Date'])\n",
    "\n",
    "    # Extract the weekday name and create the 'Weekday' column\n",
    "    df['Weekday'] = df['Date'].dt.day_name()\n",
    "\n",
    "    return df\n",
    "\n",
    "data = {\n",
    "    'Date': ['2023-01-01', '2023-01-02', '2023-01-03', '2023-01-04', '2023-01-05']\n",
    "}\n",
    "\n",
    "df = pd.DataFrame(data)\n",
    "\n",
    "df = add_weekday_column(df)\n",
    "\n",
    "print(df)\n"
   ]
  },
  {
   "cell_type": "markdown",
   "metadata": {},
   "source": [
    "**Q12.** Given a Pandas DataFrame df with a column 'Date' that contains timestamps, write a Python\n",
    "function to select all rows where the date is between '2023-01-01' and '2023-01-31'."
   ]
  },
  {
   "cell_type": "code",
   "execution_count": 60,
   "metadata": {},
   "outputs": [
    {
     "name": "stdout",
     "output_type": "stream",
     "text": [
      "        Date\n",
      "0 2023-01-01\n",
      "1 2023-01-15\n",
      "2 2023-01-25\n"
     ]
    }
   ],
   "source": [
    "def select_rows_between_dates(df):\n",
    "    \n",
    "    df['Date'] = pd.to_datetime(df['Date'])\n",
    "\n",
    "    # Filter rows where the date is between '2023-01-01' and '2023-01-31'\n",
    "    selected_rows = df[(df['Date'] >= '2023-01-01') & (df['Date'] <= '2023-01-31')]\n",
    "\n",
    "    return selected_rows\n",
    "\n",
    "data = {\n",
    "    'Date': ['2023-01-01', '2023-01-15', '2023-01-25', '2023-02-01', '2023-02-15']\n",
    "}\n",
    "df = pd.DataFrame(data)\n",
    "selected_df = select_rows_between_dates(df)\n",
    "\n",
    "print(selected_df)\n"
   ]
  },
  {
   "cell_type": "markdown",
   "metadata": {},
   "source": [
    "**Q13.** To use the basic functions of pandas, what is the first and foremost necessary library that needs to\n",
    "be imported?"
   ]
  },
  {
   "cell_type": "markdown",
   "metadata": {},
   "source": [
    "The first and foremost necessary library that needs to be imported to use the basic functions of pandas is pandas itself"
   ]
  },
  {
   "cell_type": "code",
   "execution_count": 61,
   "metadata": {},
   "outputs": [],
   "source": [
    "import pandas as pd"
   ]
  }
 ],
 "metadata": {
  "kernelspec": {
   "display_name": "Python 3",
   "language": "python",
   "name": "python3"
  },
  "language_info": {
   "codemirror_mode": {
    "name": "ipython",
    "version": 3
   },
   "file_extension": ".py",
   "mimetype": "text/x-python",
   "name": "python",
   "nbconvert_exporter": "python",
   "pygments_lexer": "ipython3",
   "version": "3.11.1"
  },
  "orig_nbformat": 4
 },
 "nbformat": 4,
 "nbformat_minor": 2
}
